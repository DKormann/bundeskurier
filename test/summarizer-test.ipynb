{
 "cells": [
  {
   "cell_type": "code",
   "execution_count": null,
   "metadata": {},
   "outputs": [],
   "source": [
    "import requests\n",
    "from bs4 import BeautifulSoup\n",
    "from markdownify import markdownify as md\n",
    "\n",
    "def download_and_convert_to_markdown(url):\n",
    "    try:\n",
    "        # Download the webpage content\n",
    "        response = requests.get(url)\n",
    "        response.raise_for_status()  # Raises a HTTPError if the response status code is 4XX/5XX\n",
    "        \n",
    "        # Parse the HTML\n",
    "        soup = BeautifulSoup(response.text, 'html.parser')\n",
    "        \n",
    "        # Extract the text from the 'bt-standard-content' class element\n",
    "        content = soup.find(class_='bt-standard-content')\n",
    "        \n",
    "        # Convert HTML to Markdown\n",
    "        markdown_text = md(str(content), heading_style=\"ATX\")\n",
    "        \n",
    "        return markdown_text\n",
    "    except requests.exceptions.RequestException as e:\n",
    "        return f\"Error downloading or processing the page: {e}\"\n",
    "    except Exception as e:\n",
    "        return f\"An unexpected error occurred: {e}\"\n",
    "\n",
    "# Example usage\n",
    "url = \"https://www.bundestag.de/ausschuesse/a22_kultur/oeffentliche_sitzungen/976698-976698\"\n",
    "data = download_and_convert_to_markdown(url)\n"
   ]
  },
  {
   "cell_type": "code",
   "execution_count": null,
   "metadata": {},
   "outputs": [],
   "source": [
    "system_prompt = '''\n",
    "Du bist ein social media bot mit der Aufgabe die Sitzungen den deutschen Bundestages zusammenzufassen. Du bist extrem gut darin witzig und provokativ nachrichten zu schreiben und dabei trotzdem leute oder gruppen nicht zu beleidigen.\n",
    "Da du auf social media aktiv bist, weißt du wie man am besten posts vormuliert um für aufsehen zu sorgen. Deine posts sind provokativ und unspezifisch, so dass sich jeder angesprochen fühlt und eine meinung zu dem thema hat. Dein ziel ist es deine posts für eine möglichst große menge an menschen interessant zu machen.\n",
    "Deine posts sind kurz und knackig. Informationen die nicht direkt mit dem inhalt zu tun haben wie wann und wo die meetings stattgefunden haben werden nicht geteilt.\n",
    "Thematische genauigkeit ist dir extrem wichtig, und du gibst dir die größte mühe die wahrheit zu schreiben. Wenn etwas nicht eindeutig oder unklar ist, dann sagst du das.\n",
    "Du bevorzugst keine partei oder politische sichtweise, sondern hast eine offene und positive einstellung. Du kannst zwischen den zeilen lesen und verstehst die politischen motivationen hinter formulierungen. Wenn es sinvoll ist dann erklärst du die hintergründe und motivationen der politischen sprache.\n",
    "'''"
   ]
  },
  {
   "cell_type": "code",
   "execution_count": null,
   "metadata": {},
   "outputs": [],
   "source": [
    "env = {line.strip().split('=')[0]:line.strip().split('=')[1] for line in open('../.env').read().strip().split('\\n') if line.strip()}\n",
    "\n",
    "from openai import OpenAI\n",
    "\n",
    "client = OpenAI(\n",
    "    # This is the default and can be omitted\n",
    "    api_key=env['OPENAI'],\n",
    ")\n",
    "\n",
    "chat_completion = client.chat.completions.create(\n",
    "    messages=[\n",
    "        {\n",
    "            \"role\": \"system\",\n",
    "            \"content\": system_prompt.strip(),\n",
    "        },{\n",
    "            \"role\": \"user\",\n",
    "            \"content\": data,\n",
    "        }\n",
    "    ],\n",
    "    model=\"gpt-3.5-turbo\",\n",
    ")"
   ]
  },
  {
   "cell_type": "code",
   "execution_count": null,
   "metadata": {},
   "outputs": [],
   "source": [
    "print(chat_completion.choices[0].message.content)"
   ]
  }
 ],
 "metadata": {
  "kernelspec": {
   "display_name": "base",
   "language": "python",
   "name": "python3"
  },
  "language_info": {
   "codemirror_mode": {
    "name": "ipython",
    "version": 3
   },
   "file_extension": ".py",
   "mimetype": "text/x-python",
   "name": "python",
   "nbconvert_exporter": "python",
   "pygments_lexer": "ipython3",
   "version": "3.11.4"
  }
 },
 "nbformat": 4,
 "nbformat_minor": 2
}
