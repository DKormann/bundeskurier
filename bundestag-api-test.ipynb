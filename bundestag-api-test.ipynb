{
 "cells": [
  {
   "cell_type": "code",
   "execution_count": 1,
   "metadata": {},
   "outputs": [],
   "source": [
    "import requests"
   ]
  },
  {
   "cell_type": "code",
   "execution_count": 2,
   "metadata": {},
   "outputs": [],
   "source": [
    "bundestag_api_key = \"rgsaY4U.oZRQKUHdJhF9qguHMkwCGIoLaqEcaHjYLF\"  # public key\n",
    "\n",
    "\n",
    "def get_data(url):\n",
    "    response = requests.get(url)\n",
    "    return response.json()\n",
    "\n",
    "last100 = get_data(f'https://search.dip.bundestag.de/api/v1/plenarprotokoll-text/?apikey={bundestag_api_key}')"
   ]
  },
  {
   "cell_type": "code",
   "execution_count": 3,
   "metadata": {},
   "outputs": [
    {
     "data": {
      "text/plain": [
       "{'id': '5634',\n",
       " 'dokumentart': 'Plenarprotokoll',\n",
       " 'typ': 'Dokument',\n",
       " 'vorgangsbezug_anzahl': 0,\n",
       " 'dokumentnummer': '20/158',\n",
       " 'wahlperiode': 20,\n",
       " 'herausgeber': 'BT',\n",
       " 'aktualisiert': '2024-03-11T09:09:17+01:00',\n",
       " 'fundstelle': {'pdf_url': 'https://dserver.bundestag.de/btp/20/20158.pdf',\n",
       "  'id': '5634',\n",
       "  'dokumentnummer': '20/158',\n",
       "  'datum': '2024-03-15',\n",
       "  'xml_url': 'https://dserver.bundestag.de/btp/20/20158.xml',\n",
       "  'dokumentart': 'Plenarprotokoll',\n",
       "  'herausgeber': 'BT',\n",
       "  'urheber': []},\n",
       " 'titel': 'Protokoll der 158. Sitzung des 20. Deutschen Bundestages',\n",
       " 'datum': '2024-03-15'}"
      ]
     },
     "execution_count": 3,
     "metadata": {},
     "output_type": "execute_result"
    }
   ],
   "source": [
    "last100[\"documents\"][0]"
   ]
  }
 ],
 "metadata": {
  "kernelspec": {
   "display_name": "base",
   "language": "python",
   "name": "python3"
  },
  "language_info": {
   "codemirror_mode": {
    "name": "ipython",
    "version": 3
   },
   "file_extension": ".py",
   "mimetype": "text/x-python",
   "name": "python",
   "nbconvert_exporter": "python",
   "pygments_lexer": "ipython3",
   "version": "3.11.5"
  }
 },
 "nbformat": 4,
 "nbformat_minor": 2
}
