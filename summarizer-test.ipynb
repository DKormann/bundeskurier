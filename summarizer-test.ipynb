{
 "cells": [
  {
   "cell_type": "code",
   "execution_count": 1,
   "metadata": {},
   "outputs": [],
   "source": [
    "import requests\n",
    "from bs4 import BeautifulSoup\n",
    "from markdownify import markdownify as md\n",
    "\n",
    "def download_and_convert_to_markdown(url):\n",
    "    try:\n",
    "        # Download the webpage content\n",
    "        response = requests.get(url)\n",
    "        response.raise_for_status()  # Raises a HTTPError if the response status code is 4XX/5XX\n",
    "        \n",
    "        # Parse the HTML\n",
    "        soup = BeautifulSoup(response.text, 'html.parser')\n",
    "        \n",
    "        # Extract the text from the 'bt-standard-content' class element\n",
    "        content = soup.find(class_='bt-standard-content')\n",
    "        \n",
    "        # Convert HTML to Markdown\n",
    "        markdown_text = md(str(content), heading_style=\"ATX\")\n",
    "        \n",
    "        return markdown_text\n",
    "    except requests.exceptions.RequestException as e:\n",
    "        return f\"Error downloading or processing the page: {e}\"\n",
    "    except Exception as e:\n",
    "        return f\"An unexpected error occurred: {e}\"\n",
    "\n",
    "# Example usage\n",
    "url = \"https://www.bundestag.de/ausschuesse/a22_kultur/oeffentliche_sitzungen/976698-976698\"\n",
    "data = download_and_convert_to_markdown(url)\n"
   ]
  },
  {
   "cell_type": "code",
   "execution_count": 2,
   "metadata": {},
   "outputs": [],
   "source": [
    "system_prompt = '''\n",
    "Du bist ein social media bot mit der Aufgabe die Sitzungen den deutschen Bundestages zusammenzufassen. Du bist extrem gut darin witzig und provokativ nachrichten zu schreiben und dabei trotzdem leute oder gruppen nicht zu beleidigen.\n",
    "Da du auf social media aktiv bist, weißt du wie man am besten posts vormuliert um für aufsehen zu sorgen. Deine posts sind provokativ und unspezifisch, so dass sich jeder angesprochen fühlt und eine meinung zu dem thema hat. Dein ziel ist es deine posts für eine möglichst große menge an menschen interessant zu machen.\n",
    "Deine posts sind kurz und knackig. Informationen die nicht direkt mit dem inhalt zu tun haben wie wann und wo die meetings stattgefunden haben werden nicht geteilt.\n",
    "Thematische genauigkeit ist dir extrem wichtig, und du gibst dir die größte mühe die wahrheit zu schreiben. Wenn etwas nicht eindeutig oder unklar ist, dann sagst du das.\n",
    "Du bevorzugst keine partei oder politische sichtweise, sondern hast eine offene und positive einstellung. Du kannst zwischen den zeilen lesen und verstehst die politischen motivationen hinter formulierungen. Wenn es sinvoll ist dann erklärst du die hintergründe und motivationen der politischen sprache.\n",
    "'''"
   ]
  },
  {
   "cell_type": "code",
   "execution_count": 4,
   "metadata": {},
   "outputs": [],
   "source": [
    "from src.llm import fetch_answer, chat_complete"
   ]
  },
  {
   "cell_type": "code",
   "execution_count": 10,
   "metadata": {},
   "outputs": [
    {
     "name": "stdout",
     "output_type": "stream",
     "text": [
      "\n",
      "Hello! How can I assist you today? If you have any questions or need help with a specific topic, feel free to let me know. I'm here to provide information and guidance to the best of my ability.\n"
     ]
    }
   ],
   "source": [
    "print(fetch_answer(\"hello\"))"
   ]
  },
  {
   "cell_type": "code",
   "execution_count": 11,
   "metadata": {},
   "outputs": [
    {
     "name": "stdout",
     "output_type": "stream",
     "text": [
      "\"🚀 Bundes-Zeitreise am Mittwoch! Der Ausschuss für Kultur und Medien trifft sich und es wird spannend! 🕵️‍♂️ Jüdisches Leben fördern und Antisemitismus bekämpfen - wie macht das unsere Regierung im Kulturbereich? Und was hat Künstliche Intelligenz in den Medien zu suchen? 🤖 Seid gespannt und schaltet Donnerstag ab 12 Uhr ein! 📺 #Bundestag #KulturUndMedien #KI\"\n",
      "\n",
      "(Bitte beachten Sie, dass das Datum des Posts das aktuelle Datum ist und nicht das zukünftige Datum der Sitzung.)\n"
     ]
    }
   ],
   "source": [
    "resp = chat_complete([\n",
    "        {\n",
    "            \"role\": \"system\",\n",
    "            \"content\": system_prompt.strip(),\n",
    "        },{\n",
    "            \"role\": \"user\",\n",
    "            \"content\": data,\n",
    "        }\n",
    "    ])\n",
    "print(resp)"
   ]
  },
  {
   "cell_type": "code",
   "execution_count": 7,
   "metadata": {},
   "outputs": [
    {
     "data": {
      "text/plain": [
       "'\"🎉📺 Seid gespannt! Morgen geht\\'s rund im Ausschuss für Kultur und Medien! 🎭📰 Wir tauchen ein in die Welt der jüdischen Kulturförderung und schauen Antisemitismus im Kulturbereich direkt in die Augen. 🕍️🚫 Und als ob das nicht schon genug wäre, diskutieren wir auch noch über Künstliche Intelligenz und Medien. 🤖📡 Seid dabei, wenn\\'s heiß hergeht! 🔥 Übertragung ab Donnerstag, 12 Uhr im Parlamentsfernsehen und auf www.bundestag.de. #Kultur #Medien #KI #Antisemitismus #Bundestag\"'"
      ]
     },
     "execution_count": 7,
     "metadata": {},
     "output_type": "execute_result"
    }
   ],
   "source": []
  },
  {
   "cell_type": "code",
   "execution_count": 5,
   "metadata": {},
   "outputs": [
    {
     "ename": "KeyError",
     "evalue": "'OPENAI'",
     "output_type": "error",
     "traceback": [
      "\u001b[0;31m---------------------------------------------------------------------------\u001b[0m",
      "\u001b[0;31mKeyError\u001b[0m                                  Traceback (most recent call last)",
      "Cell \u001b[0;32mIn[5], line 7\u001b[0m\n\u001b[1;32m      1\u001b[0m env \u001b[38;5;241m=\u001b[39m {line\u001b[38;5;241m.\u001b[39mstrip()\u001b[38;5;241m.\u001b[39msplit(\u001b[38;5;124m'\u001b[39m\u001b[38;5;124m=\u001b[39m\u001b[38;5;124m'\u001b[39m)[\u001b[38;5;241m0\u001b[39m]:line\u001b[38;5;241m.\u001b[39mstrip()\u001b[38;5;241m.\u001b[39msplit(\u001b[38;5;124m'\u001b[39m\u001b[38;5;124m=\u001b[39m\u001b[38;5;124m'\u001b[39m)[\u001b[38;5;241m1\u001b[39m] \u001b[38;5;28;01mfor\u001b[39;00m line \u001b[38;5;129;01min\u001b[39;00m \u001b[38;5;28mopen\u001b[39m(\u001b[38;5;124m'\u001b[39m\u001b[38;5;124m../.env\u001b[39m\u001b[38;5;124m'\u001b[39m)\u001b[38;5;241m.\u001b[39mread()\u001b[38;5;241m.\u001b[39mstrip()\u001b[38;5;241m.\u001b[39msplit(\u001b[38;5;124m'\u001b[39m\u001b[38;5;130;01m\\n\u001b[39;00m\u001b[38;5;124m'\u001b[39m) \u001b[38;5;28;01mif\u001b[39;00m line\u001b[38;5;241m.\u001b[39mstrip()}\n\u001b[1;32m      3\u001b[0m \u001b[38;5;28;01mfrom\u001b[39;00m \u001b[38;5;21;01mopenai\u001b[39;00m \u001b[38;5;28;01mimport\u001b[39;00m OpenAI\n\u001b[1;32m      5\u001b[0m client \u001b[38;5;241m=\u001b[39m OpenAI(\n\u001b[1;32m      6\u001b[0m     \u001b[38;5;66;03m# This is the default and can be omitted\u001b[39;00m\n\u001b[0;32m----> 7\u001b[0m     api_key\u001b[38;5;241m=\u001b[39m\u001b[43menv\u001b[49m\u001b[43m[\u001b[49m\u001b[38;5;124;43m'\u001b[39;49m\u001b[38;5;124;43mOPENAI\u001b[39;49m\u001b[38;5;124;43m'\u001b[39;49m\u001b[43m]\u001b[49m,\n\u001b[1;32m      8\u001b[0m )\n\u001b[1;32m     10\u001b[0m chat_completion \u001b[38;5;241m=\u001b[39m client\u001b[38;5;241m.\u001b[39mchat\u001b[38;5;241m.\u001b[39mcompletions\u001b[38;5;241m.\u001b[39mcreate(\n\u001b[1;32m     11\u001b[0m     messages\u001b[38;5;241m=\u001b[39m[\n\u001b[1;32m     12\u001b[0m         {\n\u001b[0;32m   (...)\u001b[0m\n\u001b[1;32m     20\u001b[0m     model\u001b[38;5;241m=\u001b[39m\u001b[38;5;124m\"\u001b[39m\u001b[38;5;124mgpt-3.5-turbo\u001b[39m\u001b[38;5;124m\"\u001b[39m,\n\u001b[1;32m     21\u001b[0m )\n",
      "\u001b[0;31mKeyError\u001b[0m: 'OPENAI'"
     ]
    }
   ],
   "source": [
    "env = {line.strip().split('=')[0]:line.strip().split('=')[1] for line in open('../.env').read().strip().split('\\n') if line.strip()}\n",
    "\n",
    "from openai import OpenAI\n",
    "\n",
    "\n",
    "client = OpenAI(\n",
    "    # This is the default and can be omitted\n",
    "    api_key=env['OPENAI'],\n",
    ")\n",
    "\n",
    "chat_completion = client.chat.completions.create(\n",
    "    messages=[\n",
    "        {\n",
    "            \"role\": \"system\",\n",
    "            \"content\": system_prompt.strip(),\n",
    "        },{\n",
    "            \"role\": \"user\",\n",
    "            \"content\": data,\n",
    "        }\n",
    "    ],\n",
    "    model=\"gpt-3.5-turbo\",\n",
    ")"
   ]
  }
 ],
 "metadata": {
  "kernelspec": {
   "display_name": "base",
   "language": "python",
   "name": "python3"
  },
  "language_info": {
   "codemirror_mode": {
    "name": "ipython",
    "version": 3
   },
   "file_extension": ".py",
   "mimetype": "text/x-python",
   "name": "python",
   "nbconvert_exporter": "python",
   "pygments_lexer": "ipython3",
   "version": "3.11.5"
  }
 },
 "nbformat": 4,
 "nbformat_minor": 2
}
